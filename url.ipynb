{
 "cells": [
  {
   "cell_type": "code",
   "execution_count": 2,
   "metadata": {},
   "outputs": [],
   "source": [
    "from tkinter import *\n",
    "import pyshorteners\n",
    "\n",
    "root = Tk()\n",
    "root.title('CODECLAUSE-Sagarika')\n",
    "root.geometry('500x500')\n",
    "root.config(background = \"#5F9EA0\")  \n",
    "\n",
    "#Main function\n",
    "def shorten():\n",
    "    if shorty.get():\n",
    "        shorty.delete(0, END)\n",
    "    if my_entry.get():\n",
    "        #Convert Url to Short\n",
    "        url = pyshorteners.Shortener().tinyurl.short(my_entry.get())\n",
    "        #Output to window\n",
    "        shorty.insert(END, url)\n",
    "\n",
    "my_label = Label(root, text=\"URL-SHORTENER\",bg=\"#FFF0F5\",fg=\"black\", font=(\"Verdana\",34))\n",
    "my_label.pack(pady=30)\n",
    "\n",
    "my_entry = Entry(root, font=(\"  Verdana\",24))\n",
    "my_entry.pack(pady=20)\n",
    "\n",
    "my_btn = Button(root, command=shorten , text=\"Link\",bg=\"DarkSlateGrey\",font=(\"Verdana\",24))\n",
    "my_btn.pack(pady=20)\n",
    "\n",
    "short_label = Label(root, text=\"New link:\" ,fg=\"white\" ,bg=\"#DB7093\", font=(\"Verdana\",18))\n",
    "short_label.pack(pady=20)\n",
    "\n",
    "shorty = Entry(root, font=(\"Verdana\",22),bg=\"#03001C\", fg=\"#F9D949\", justify=CENTER , width=30,bd=0)\n",
    "shorty.pack(pady=30)\n",
    "\n",
    "root.mainloop()"
   ]
  },
  {
   "cell_type": "code",
   "execution_count": 3,
   "metadata": {},
   "outputs": [
    {
     "name": "stdout",
     "output_type": "stream",
     "text": [
      "Collecting pyshorteners\n",
      "  Downloading pyshorteners-1.0.1.tar.gz (10.0 kB)\n",
      "  Preparing metadata (setup.py): started\n",
      "  Preparing metadata (setup.py): finished with status 'done'\n",
      "Collecting requests\n",
      "  Downloading requests-2.29.0-py3-none-any.whl (62 kB)\n",
      "     ---------------------------------------- 62.5/62.5 kB 3.3 MB/s eta 0:00:00\n",
      "Collecting charset-normalizer<4,>=2\n",
      "  Downloading charset_normalizer-3.1.0-cp311-cp311-win_amd64.whl (96 kB)\n",
      "     ---------------------------------------- 96.7/96.7 kB 2.8 MB/s eta 0:00:00\n",
      "Collecting idna<4,>=2.5\n",
      "  Downloading idna-3.4-py3-none-any.whl (61 kB)\n",
      "     ---------------------------------------- 61.5/61.5 kB 3.2 MB/s eta 0:00:00\n",
      "Requirement already satisfied: urllib3<1.27,>=1.21.1 in c:\\users\\91929\\appdata\\local\\programs\\python\\python311\\lib\\site-packages (from requests->pyshorteners) (1.26.15)\n",
      "Collecting certifi>=2017.4.17\n",
      "  Downloading certifi-2022.12.7-py3-none-any.whl (155 kB)\n",
      "     -------------------------------------- 155.3/155.3 kB 4.7 MB/s eta 0:00:00\n",
      "Installing collected packages: idna, charset-normalizer, certifi, requests, pyshorteners\n",
      "  Running setup.py install for pyshorteners: started\n",
      "  Running setup.py install for pyshorteners: finished with status 'done'\n",
      "Successfully installed certifi-2022.12.7 charset-normalizer-3.1.0 idna-3.4 pyshorteners-1.0.1 requests-2.29.0\n",
      "Note: you may need to restart the kernel to use updated packages.\n"
     ]
    },
    {
     "name": "stderr",
     "output_type": "stream",
     "text": [
      "  WARNING: The script normalizer.exe is installed in 'c:\\Users\\91929\\AppData\\Local\\Programs\\Python\\Python311\\Scripts' which is not on PATH.\n",
      "  Consider adding this directory to PATH or, if you prefer to suppress this warning, use --no-warn-script-location.\n",
      "  DEPRECATION: pyshorteners is being installed using the legacy 'setup.py install' method, because it does not have a 'pyproject.toml' and the 'wheel' package is not installed. pip 23.1 will enforce this behaviour change. A possible replacement is to enable the '--use-pep517' option. Discussion can be found at https://github.com/pypa/pip/issues/8559\n",
      "\n",
      "[notice] A new release of pip available: 22.3.1 -> 23.1.2\n",
      "[notice] To update, run: python.exe -m pip install --upgrade pip\n"
     ]
    }
   ],
   "source": [
    "pip install pyshorteners"
   ]
  },
  {
   "cell_type": "code",
   "execution_count": 1,
   "metadata": {},
   "outputs": [
    {
     "name": "stdout",
     "output_type": "stream",
     "text": [
      "Note: you may need to restart the kernel to use updated packages.\n"
     ]
    },
    {
     "name": "stderr",
     "output_type": "stream",
     "text": [
      "ERROR: Could not find a version that satisfies the requirement tkinter (from versions: none)\n",
      "ERROR: No matching distribution found for tkinter\n",
      "\n",
      "[notice] A new release of pip available: 22.3.1 -> 23.1.2\n",
      "[notice] To update, run: python.exe -m pip install --upgrade pip\n"
     ]
    }
   ],
   "source": [
    "pip install tkinter"
   ]
  }
 ],
 "metadata": {
  "kernelspec": {
   "display_name": "Python 3",
   "language": "python",
   "name": "python3"
  },
  "language_info": {
   "codemirror_mode": {
    "name": "ipython",
    "version": 3
   },
   "file_extension": ".py",
   "mimetype": "text/x-python",
   "name": "python",
   "nbconvert_exporter": "python",
   "pygments_lexer": "ipython3",
   "version": "3.11.1"
  },
  "orig_nbformat": 4
 },
 "nbformat": 4,
 "nbformat_minor": 2
}
